{
  "cells": [
    {
      "cell_type": "markdown",
      "source": [
        "# Samver Jahan Mormo\n",
        "---\n",
        "Department of Computer Science & Engineering,\n",
        "\n",
        "Rajshahi University of Engineering & Technology (RUET)\n",
        "\n",
        "Linkedin: https://www.linkedin.com/in/samver-jahan-mormo/\n",
        "\n",
        "Email: sjm91097@gmail.com\n",
        "\n",
        "---\n",
        "\n"
      ],
      "metadata": {
        "id": "16hqft4RAwR2"
      }
    },
    {
      "cell_type": "markdown",
      "metadata": {
        "id": "0AIrxGm_3KLs"
      },
      "source": [
        "<p style=\"text-align:center\">\n",
        "    <a href=\"https://skills.network/?utm_medium=Exinfluencer&utm_source=Exinfluencer&utm_content=000026UJ&utm_term=10006555&utm_id=NA-SkillsNetwork-Channel-SkillsNetworkCoursesIBMDeveloperSkillsNetworkPY0101ENSkillsNetwork19487395-2022-01-01\" target=\"_blank\">\n",
        "    <img src=\"https://cf-courses-data.s3.us.cloud-object-storage.appdomain.cloud/assets/logos/SN_web_lightmode.png\" width=\"200\" alt=\"Skills Network Logo\"  />\n",
        "    </a>\n",
        "</p>\n",
        "\n",
        "# 1D Numpy in Python\n",
        "\n",
        "Estimated time needed: **30** minutes\n",
        "\n",
        "## Objectives\n",
        "\n",
        "After completing this lab you will be able to:\n",
        "\n",
        "*   Import and use the `numpy` library\n",
        "*   Perform operations with `numpy`\n"
      ]
    },
    {
      "cell_type": "markdown",
      "metadata": {
        "id": "CGy4N9dN3KLx"
      },
      "source": [
        "<h2>Table of Contents</h2>\n",
        "<div class=\"alert alert-block alert-info\" style=\"margin-thttps://https://op/?utm_medium=Exinfluencer&utm_source=Exinfluencer&utm_content=000026UJ&utm_term=10006555&utm_id=NA-SkillsNetwork-Channel-SkillsNetworkCoursesIBMDeveloperSkillsNetworkPY0101ENSkillsNetwork19487395-2022-01-01/?utm_medium=Exinfluencer&utm_source=Exinfluencer&utm_content=000026UJ&utm_term=10006555&utm_id=NA-SkillsNetwork-Channel-SkillsNetworkCoursesIBMDeveloperSkillsNetworkPY0101ENSkillsNetwork19487395-2021-01-01: 20px\">\n",
        "    <ul>\n",
        "        <li><a href=\"https://pre/?utm_medium=Exinfluencer&utm_source=Exinfluencer&utm_content=000026UJ&utm_term=10006555&utm_id=NA-SkillsNetwork-Channel-SkillsNetworkCoursesIBMDeveloperSkillsNetworkPY0101ENSkillsNetwork19487395-2021-01-01\">List in Python</a></li>\n",
        "        <li>\n",
        "            <a href=\"https://numpy/?utm_medium=Exinfluencer&utm_source=Exinfluencer&utm_content=000026UJ&utm_term=10006555&utm_id=NA-SkillsNetwork-Channel-SkillsNetworkCoursesIBMDeveloperSkillsNetworkPY0101ENSkillsNetwork19487395-2021-01-01\">What is Numpy?</a>\n",
        "            <ul>\n",
        "                <li><a href=\"https://type/?utm_medium=Exinfluencer&utm_source=Exinfluencer&utm_content=000026UJ&utm_term=10006555&utm_id=NA-SkillsNetwork-Channel-SkillsNetworkCoursesIBMDeveloperSkillsNetworkPY0101ENSkillsNetwork19487395-2021-01-01\">Type</a></li>\n",
        "                <li><a href=\"https://val/?utm_medium=Exinfluencer&utm_source=Exinfluencer&utm_content=000026UJ&utm_term=10006555&utm_id=NA-SkillsNetwork-Channel-SkillsNetworkCoursesIBMDeveloperSkillsNetworkPY0101ENSkillsNetwork19487395-2021-01-01\">Assign Value</a></li>\n",
        "                <li><a href=\"https://slice/?utm_medium=Exinfluencer&utm_source=Exinfluencer&utm_content=000026UJ&utm_term=10006555&utm_id=NA-SkillsNetwork-Channel-SkillsNetworkCoursesIBMDeveloperSkillsNetworkPY0101ENSkillsNetwork19487395-2021-01-01\">Slicing</a></li>\n",
        "                <li><a href=\"https://list/?utm_medium=Exinfluencer&utm_source=Exinfluencer&utm_content=000026UJ&utm_term=10006555&utm_id=NA-SkillsNetwork-Channel-SkillsNetworkCoursesIBMDeveloperSkillsNetworkPY0101ENSkillsNetwork19487395-2021-01-01\">Assign Value with List</a></li>\n",
        "                <li><a href=\"https://other/?utm_medium=Exinfluencer&utm_source=Exinfluencer&utm_content=000026UJ&utm_term=10006555&utm_id=NA-SkillsNetwork-Channel-SkillsNetworkCoursesIBMDeveloperSkillsNetworkPY0101ENSkillsNetwork19487395-2021-01-01\">Other Attributes</a></li>\n",
        "            </ul>\n",
        "        </li>\n",
        "        <li>\n",
        "            <a href=\"op\">Numpy Array Operations</a>\n",
        "            <ul>\n",
        "                <li><a href=\"https://add/?utm_medium=Exinfluencer&utm_source=Exinfluencer&utm_content=000026UJ&utm_term=10006555&utm_id=NA-SkillsNetwork-Channel-SkillsNetworkCoursesIBMDeveloperSkillsNetworkPY0101ENSkillsNetwork19487395-2021-01-01\">Array Addition</a></li>\n",
        "                <li><a href=\"https://multi/?utm_medium=Exinfluencer&utm_source=Exinfluencer&utm_content=000026UJ&utm_term=10006555&utm_id=NA-SkillsNetwork-Channel-SkillsNetworkCoursesIBMDeveloperSkillsNetworkPY0101ENSkillsNetwork19487395-2021-01-01\">Array Multiplication</a></li>\n",
        "                <li><a href=\"https://prod/?utm_medium=Exinfluencer&utm_source=Exinfluencer&utm_content=000026UJ&utm_term=10006555&utm_id=NA-SkillsNetwork-Channel-SkillsNetworkCoursesIBMDeveloperSkillsNetworkPY0101ENSkillsNetwork19487395-2021-01-01\">Product of Two Numpy Arrays</a></li>\n",
        "                <li><a href=\"https://dot/?utm_medium=Exinfluencer&utm_source=Exinfluencer&utm_content=000026UJ&utm_term=10006555&utm_id=NA-SkillsNetwork-Channel-SkillsNetworkCoursesIBMDeveloperSkillsNetworkPY0101ENSkillsNetwork19487395-2021-01-01\">Dot Product</a></li>\n",
        "                <li><a href=\"https://cons/?utm_medium=Exinfluencer&utm_source=Exinfluencer&utm_content=000026UJ&utm_term=10006555&utm_id=NA-SkillsNetwork-Channel-SkillsNetworkCoursesIBMDeveloperSkillsNetworkPY0101ENSkillsNetwork19487395-2021-01-01\">Adding Constant to a Numpy Array</a></li>\n",
        "            </ul>\n",
        "        </li>\n",
        "        <li><a href=\"https://math/?utm_medium=Exinfluencer&utm_source=Exinfluencer&utm_content=000026UJ&utm_term=10006555&utm_id=NA-SkillsNetwork-Channel-SkillsNetworkCoursesIBMDeveloperSkillsNetworkPY0101ENSkillsNetwork19487395-2021-01-01\">Mathematical Functions</a></li>\n",
        "        <li><a href=\"https://lin/?utm_medium=Exinfluencer&utm_source=Exinfluencer&utm_content=000026UJ&utm_term=10006555&utm_id=NA-SkillsNetwork-Channel-SkillsNetworkCoursesIBMDeveloperSkillsNetworkPY0101ENSkillsNetwork19487395-2021-01-01\">Linspace</a></li>\n",
        "    </ul>\n",
        "\n",
        "</div>\n",
        "\n",
        "<hr>\n"
      ]
    },
    {
      "cell_type": "markdown",
      "metadata": {
        "id": "8MV1o7KL3KLz"
      },
      "source": [
        "### Create a Python List as follows:\n"
      ]
    },
    {
      "cell_type": "code",
      "execution_count": null,
      "metadata": {
        "id": "Kph2xpgW3KL1"
      },
      "outputs": [],
      "source": [
        "# Create a python list\n",
        "\n",
        "a = [\"0\", 1, \"two\", \"3\", 4]"
      ]
    },
    {
      "cell_type": "markdown",
      "metadata": {
        "id": "AVeyeHvZ3KL3"
      },
      "source": [
        "We can access the data via an index:\n"
      ]
    },
    {
      "cell_type": "markdown",
      "metadata": {
        "id": "ylP41Jor3KL4"
      },
      "source": [
        "<img src=\"https://cf-courses-data.s3.us.cloud-object-storage.appdomain.cloud/IBMDeveloperSkillsNetwork-PY0101EN-SkillsNetwork/labs/Module%205/images/NumOneList.png\" width=\"660\" />\n"
      ]
    },
    {
      "cell_type": "markdown",
      "metadata": {
        "id": "F7NMeGX83KL5"
      },
      "source": [
        "We can access each element using a square bracket as follows:\n"
      ]
    },
    {
      "cell_type": "code",
      "execution_count": null,
      "metadata": {
        "colab": {
          "base_uri": "https://localhost:8080/"
        },
        "id": "OZrW7uHI3KL5",
        "outputId": "51b8204a-9ab3-4ca7-a378-c0e604922c37"
      },
      "outputs": [
        {
          "output_type": "stream",
          "name": "stdout",
          "text": [
            "a[0]: 0\n",
            "a[1]: 1\n",
            "a[2]: two\n",
            "a[3]: 3\n",
            "a[4]: 4\n"
          ]
        }
      ],
      "source": [
        "# Print each element\n",
        "\n",
        "print(\"a[0]:\", a[0])\n",
        "print(\"a[1]:\", a[1])\n",
        "print(\"a[2]:\", a[2])\n",
        "print(\"a[3]:\", a[3])\n",
        "print(\"a[4]:\", a[4])"
      ]
    },
    {
      "cell_type": "markdown",
      "metadata": {
        "id": "fHEDMzgf3KL6"
      },
      "source": [
        "<hr>\n"
      ]
    },
    {
      "cell_type": "markdown",
      "metadata": {
        "id": "mpDdpwYG3KL7"
      },
      "source": [
        "<h2 id=\"numpy\">What is Numpy?</h2>\n"
      ]
    },
    {
      "cell_type": "markdown",
      "metadata": {
        "id": "pV-JE5E-3KL7"
      },
      "source": [
        "NumPy is a Python library used for working with arrays, linear algebra, fourier transform, and matrices.A numpy array is similar to a list. NumPy stands for Numerical Python and it is an open source project.The array object in NumPy is called **ndarray**, it provides a lot of supporting functions that make working with ndarray very easy.\n",
        "\n",
        "Arrays are very frequently used in data science, where speed and resources are very important.\n",
        "\n",
        "NumPy is usually imported under the np alias.\n",
        "\n",
        "It's usually fixed in size and each element is of the same type. We can cast a list to a numpy array by first importing `numpy`:\n"
      ]
    },
    {
      "cell_type": "code",
      "execution_count": null,
      "metadata": {
        "id": "PInyvi8b3KL8"
      },
      "outputs": [],
      "source": [
        "# import numpy library\n",
        "\n",
        "import numpy as np "
      ]
    },
    {
      "cell_type": "markdown",
      "metadata": {
        "id": "-XFkvher3KL9"
      },
      "source": [
        "We then cast the list as follows:\n"
      ]
    },
    {
      "cell_type": "code",
      "execution_count": null,
      "metadata": {
        "colab": {
          "base_uri": "https://localhost:8080/"
        },
        "id": "ofNmksrG3KL9",
        "outputId": "b418a55e-fbba-42e8-dbb5-b52f123faffb"
      },
      "outputs": [
        {
          "output_type": "execute_result",
          "data": {
            "text/plain": [
              "array([0, 1, 2, 3, 4])"
            ]
          },
          "metadata": {},
          "execution_count": 4
        }
      ],
      "source": [
        "# Create a numpy array\n",
        "\n",
        "a = np.array([0, 1, 2, 3, 4])\n",
        "a"
      ]
    },
    {
      "cell_type": "markdown",
      "metadata": {
        "id": "6RyLlRoZ3KL-"
      },
      "source": [
        "Each element is of the same type, in this case integers:\n"
      ]
    },
    {
      "cell_type": "markdown",
      "metadata": {
        "id": "Q7kktkjm3KL-"
      },
      "source": [
        "<img src=\"https://cf-courses-data.s3.us.cloud-object-storage.appdomain.cloud/IBMDeveloperSkillsNetwork-PY0101EN-SkillsNetwork/labs/Module%205/images/NumOneNp.png\" width=\"500\" />\n"
      ]
    },
    {
      "cell_type": "markdown",
      "metadata": {
        "id": "35DPUr3V3KL-"
      },
      "source": [
        "As with lists, we can access each element via a square bracket:\n"
      ]
    },
    {
      "cell_type": "code",
      "execution_count": null,
      "metadata": {
        "colab": {
          "base_uri": "https://localhost:8080/"
        },
        "id": "Zd_gSSD33KL_",
        "outputId": "fa1479cc-6173-428c-ae9d-dac03feb9d5c"
      },
      "outputs": [
        {
          "output_type": "stream",
          "name": "stdout",
          "text": [
            "a[0]: 0\n",
            "a[1]: 1\n",
            "a[2]: 2\n",
            "a[3]: 3\n",
            "a[4]: 4\n"
          ]
        }
      ],
      "source": [
        "# Print each element\n",
        "\n",
        "print(\"a[0]:\", a[0])\n",
        "print(\"a[1]:\", a[1])\n",
        "print(\"a[2]:\", a[2])\n",
        "print(\"a[3]:\", a[3])\n",
        "print(\"a[4]:\", a[4])"
      ]
    },
    {
      "cell_type": "markdown",
      "metadata": {
        "id": "HZw2bfCR3KL_"
      },
      "source": [
        "### Checking NumPy Version\n",
        "\n",
        "The version string is stored under **version** attribute.\n"
      ]
    },
    {
      "cell_type": "code",
      "execution_count": null,
      "metadata": {
        "colab": {
          "base_uri": "https://localhost:8080/"
        },
        "id": "iJYIYVhN3KL_",
        "outputId": "7fe819e5-5893-4a87-f010-3449f81ef5ae"
      },
      "outputs": [
        {
          "output_type": "stream",
          "name": "stdout",
          "text": [
            "1.21.6\n"
          ]
        }
      ],
      "source": [
        "print(np.__version__)"
      ]
    },
    {
      "cell_type": "markdown",
      "metadata": {
        "id": "1FlYH7FS3KMA"
      },
      "source": [
        "<h3 id=\"type\">Type</h3>\n"
      ]
    },
    {
      "cell_type": "markdown",
      "metadata": {
        "id": "RGbxNpId3KMA"
      },
      "source": [
        "If we check the type of the array we get <b>numpy.ndarray</b>:\n"
      ]
    },
    {
      "cell_type": "code",
      "execution_count": null,
      "metadata": {
        "colab": {
          "base_uri": "https://localhost:8080/"
        },
        "id": "goSme3N93KMA",
        "outputId": "08d0a93c-d573-48a9-c228-768b622763ed"
      },
      "outputs": [
        {
          "output_type": "execute_result",
          "data": {
            "text/plain": [
              "numpy.ndarray"
            ]
          },
          "metadata": {},
          "execution_count": 7
        }
      ],
      "source": [
        "# Check the type of the array\n",
        "\n",
        "type(a)"
      ]
    },
    {
      "cell_type": "markdown",
      "metadata": {
        "id": "nad9OCey3KMB"
      },
      "source": [
        "As numpy arrays contain data of the same type, we can use the attribute \"dtype\" to obtain the data type of the array’s elements. In this case, it's a 64-bit integer:\n"
      ]
    },
    {
      "cell_type": "code",
      "execution_count": null,
      "metadata": {
        "colab": {
          "base_uri": "https://localhost:8080/"
        },
        "id": "M7PuWKTl3KMB",
        "outputId": "36e277ce-c091-4892-8fb3-23692e12adbe"
      },
      "outputs": [
        {
          "output_type": "execute_result",
          "data": {
            "text/plain": [
              "dtype('int64')"
            ]
          },
          "metadata": {},
          "execution_count": 8
        }
      ],
      "source": [
        "# Check the type of the values stored in numpy array\n",
        "\n",
        "a.dtype"
      ]
    },
    {
      "cell_type": "markdown",
      "metadata": {
        "id": "der59m7L3KMB"
      },
      "source": [
        "### Try it yourself\n",
        "\n",
        "Check the type of the array and Value type for the given array **c**\n"
      ]
    },
    {
      "cell_type": "code",
      "execution_count": null,
      "metadata": {
        "colab": {
          "base_uri": "https://localhost:8080/"
        },
        "id": "sHvvraAb3KMC",
        "outputId": "30f768b7-4438-4ddd-c240-e9d392c1fb60"
      },
      "outputs": [
        {
          "output_type": "stream",
          "name": "stdout",
          "text": [
            "<class 'numpy.ndarray'>\n",
            "float64\n"
          ]
        }
      ],
      "source": [
        "b = np.array([3.1, 11.02, 6.2, 213.2, 5.2])\n",
        "\n",
        "# Enter your code here\n",
        "print(type(b))\n",
        "print(b.dtype)"
      ]
    },
    {
      "cell_type": "markdown",
      "metadata": {
        "id": "we5bE41M3KMD"
      },
      "source": [
        "<details><summary>Click here for the solution</summary>\n",
        "\n",
        "```python\n",
        "type(b)\n",
        "    \n",
        "b.dtype \n",
        "    \n",
        "If we examine the attribute dtype we see float 64, as the elements are not integers:\n",
        "```\n",
        "\n",
        "</details>\n"
      ]
    },
    {
      "cell_type": "markdown",
      "metadata": {
        "id": "MSFjxxRn3KMD"
      },
      "source": [
        "<h3 id=\"val\">Assign value</h3>\n"
      ]
    },
    {
      "cell_type": "markdown",
      "metadata": {
        "id": "t6iVi_W83KME"
      },
      "source": [
        "We can change the value of the array. Consider the array <code>c</code>:\n"
      ]
    },
    {
      "cell_type": "code",
      "execution_count": null,
      "metadata": {
        "colab": {
          "base_uri": "https://localhost:8080/"
        },
        "id": "Xx8xq0g83KME",
        "outputId": "42190507-8ecd-40d8-e380-56a6a3990562"
      },
      "outputs": [
        {
          "output_type": "execute_result",
          "data": {
            "text/plain": [
              "array([20,  1,  2,  3,  4])"
            ]
          },
          "metadata": {},
          "execution_count": 10
        }
      ],
      "source": [
        "# Create numpy array\n",
        "\n",
        "c = np.array([20, 1, 2, 3, 4])\n",
        "c"
      ]
    },
    {
      "cell_type": "markdown",
      "metadata": {
        "id": "t2F6dNLQ3KMF"
      },
      "source": [
        "We can change the first element of the array to 100 as follows:\n"
      ]
    },
    {
      "cell_type": "code",
      "execution_count": null,
      "metadata": {
        "colab": {
          "base_uri": "https://localhost:8080/"
        },
        "id": "DszXM4Ld3KMG",
        "outputId": "8b564349-f0c0-4c03-bb44-3c149ea9a390"
      },
      "outputs": [
        {
          "output_type": "execute_result",
          "data": {
            "text/plain": [
              "array([100,   1,   2,   3,   4])"
            ]
          },
          "metadata": {},
          "execution_count": 11
        }
      ],
      "source": [
        "# Assign the first element to 100\n",
        "\n",
        "c[0] = 100\n",
        "c"
      ]
    },
    {
      "cell_type": "markdown",
      "metadata": {
        "id": "H5I5-Yb33KMG"
      },
      "source": [
        "We can change the 5th element of the array to 0 as follows:\n"
      ]
    },
    {
      "cell_type": "code",
      "execution_count": null,
      "metadata": {
        "colab": {
          "base_uri": "https://localhost:8080/"
        },
        "id": "oqCT0Ao53KMI",
        "outputId": "9b965e31-96d9-44da-cdb1-9fafbcc46617"
      },
      "outputs": [
        {
          "output_type": "execute_result",
          "data": {
            "text/plain": [
              "array([100,   1,   2,   3,   0])"
            ]
          },
          "metadata": {},
          "execution_count": 12
        }
      ],
      "source": [
        "# Assign the 5th element to 0\n",
        "\n",
        "c[4] = 0\n",
        "c"
      ]
    },
    {
      "cell_type": "markdown",
      "metadata": {
        "id": "CH29LdIY3KMI"
      },
      "source": [
        "### Try it yourself\n",
        "\n",
        "Assign the value 20 for the second element in the given array.\n"
      ]
    },
    {
      "cell_type": "code",
      "execution_count": null,
      "metadata": {
        "colab": {
          "base_uri": "https://localhost:8080/"
        },
        "id": "lFSYBSwC3KMI",
        "outputId": "fcfc379d-b5e0-413b-adc8-665f4ff38b80"
      },
      "outputs": [
        {
          "output_type": "execute_result",
          "data": {
            "text/plain": [
              "array([10, 20, 30, 40, 50])"
            ]
          },
          "metadata": {},
          "execution_count": 13
        }
      ],
      "source": [
        "a = np.array([10, 2, 30, 40,50])\n",
        "\n",
        "# Enter your code here\n",
        "a[1] = 20\n",
        "a"
      ]
    },
    {
      "cell_type": "markdown",
      "metadata": {
        "id": "0BPDcu_23KMJ"
      },
      "source": [
        "<details><summary>Click here for the solution</summary>\n",
        "\n",
        "```python\n",
        "a[1]=20\n",
        "a\n",
        "   \n",
        "```\n",
        "\n",
        "</details>\n"
      ]
    },
    {
      "cell_type": "markdown",
      "metadata": {
        "id": "Cq4MBxfX3KMJ"
      },
      "source": [
        "<h3 id=\"slice\">Slicing</h3>\n"
      ]
    },
    {
      "cell_type": "markdown",
      "metadata": {
        "id": "VhLgsjw_3KMJ"
      },
      "source": [
        "Like lists, we can slice the numpy array. Slicing in python means taking the elements from the given index to another given index.\n",
        "\n",
        "We pass slice like this: \\[start:end].The element at end index is not being included in the output.\n",
        "\n",
        "We can select the elements from 1 to 3 and assign it to a new numpy array <code>d</code> as follows:\n"
      ]
    },
    {
      "cell_type": "code",
      "execution_count": null,
      "metadata": {
        "colab": {
          "base_uri": "https://localhost:8080/"
        },
        "id": "mB2o0oo23KMK",
        "outputId": "94dee496-7b61-4e14-e66b-0ce43445de62"
      },
      "outputs": [
        {
          "output_type": "execute_result",
          "data": {
            "text/plain": [
              "array([1, 2, 3])"
            ]
          },
          "metadata": {},
          "execution_count": 14
        }
      ],
      "source": [
        "# Slicing the numpy array\n",
        "\n",
        "d = c[1:4]\n",
        "d"
      ]
    },
    {
      "cell_type": "markdown",
      "metadata": {
        "id": "aqnhKtNo3KMK"
      },
      "source": [
        "We can assign the corresponding indexes to new values as follows:\n"
      ]
    },
    {
      "cell_type": "code",
      "execution_count": null,
      "metadata": {
        "colab": {
          "base_uri": "https://localhost:8080/"
        },
        "id": "Hc7lHosM3KMK",
        "outputId": "d689a7a7-5771-41ff-d281-c3e8f3631b0d"
      },
      "outputs": [
        {
          "output_type": "execute_result",
          "data": {
            "text/plain": [
              "array([100,   1,   2, 300, 400])"
            ]
          },
          "metadata": {},
          "execution_count": 15
        }
      ],
      "source": [
        "# Set the fourth element and fifth element to 300 and 400\n",
        "\n",
        "c[3:5] = 300, 400\n",
        "c"
      ]
    },
    {
      "cell_type": "markdown",
      "metadata": {
        "id": "pU_2vEyR3KML"
      },
      "source": [
        "We can also define the steps in slicing, like this: \\[start\\:end:step].\n"
      ]
    },
    {
      "cell_type": "code",
      "execution_count": null,
      "metadata": {
        "colab": {
          "base_uri": "https://localhost:8080/"
        },
        "id": "lKM1JdW13KML",
        "outputId": "c5e00ab1-4574-46f5-961b-011d12b6808c"
      },
      "outputs": [
        {
          "output_type": "stream",
          "name": "stdout",
          "text": [
            "[2 4]\n"
          ]
        }
      ],
      "source": [
        "arr = np.array([1, 2, 3, 4, 5, 6, 7])\n",
        "\n",
        "print(arr[1:5:2])"
      ]
    },
    {
      "cell_type": "markdown",
      "metadata": {
        "id": "p-ZbkbMA3KML"
      },
      "source": [
        "If we don't pass start its considered 0\n"
      ]
    },
    {
      "cell_type": "code",
      "execution_count": null,
      "metadata": {
        "colab": {
          "base_uri": "https://localhost:8080/"
        },
        "id": "KG7_3fiu3KML",
        "outputId": "59178303-fc4a-496f-a453-56114f968e1d"
      },
      "outputs": [
        {
          "output_type": "stream",
          "name": "stdout",
          "text": [
            "[1 2 3 4]\n"
          ]
        }
      ],
      "source": [
        "print(arr[:4])"
      ]
    },
    {
      "cell_type": "markdown",
      "metadata": {
        "id": "caijl6jS3KML"
      },
      "source": [
        "If we don't pass end it considers till the length of array.\n"
      ]
    },
    {
      "cell_type": "code",
      "execution_count": null,
      "metadata": {
        "colab": {
          "base_uri": "https://localhost:8080/"
        },
        "id": "exJwfjmb3KMM",
        "outputId": "dc1d873e-8e92-4614-f191-bb6e4f7e5eec"
      },
      "outputs": [
        {
          "output_type": "stream",
          "name": "stdout",
          "text": [
            "[5 6 7]\n"
          ]
        }
      ],
      "source": [
        "print(arr[4:])"
      ]
    },
    {
      "cell_type": "markdown",
      "metadata": {
        "id": "KkCu72FC3KMM"
      },
      "source": [
        "If we don't pass step its considered 1\n"
      ]
    },
    {
      "cell_type": "code",
      "execution_count": null,
      "metadata": {
        "colab": {
          "base_uri": "https://localhost:8080/"
        },
        "id": "oksgqbkn3KMN",
        "outputId": "e6a6217d-42d4-4d90-b5b6-b4ceb26caa6f"
      },
      "outputs": [
        {
          "output_type": "stream",
          "name": "stdout",
          "text": [
            "[2 3 4 5]\n"
          ]
        }
      ],
      "source": [
        "print(arr[1:5:])"
      ]
    },
    {
      "cell_type": "markdown",
      "metadata": {
        "id": "bjIX6Rdr3KMN"
      },
      "source": [
        "### Try it yourself\n",
        "\n",
        "Print the even elements in the given array.\n"
      ]
    },
    {
      "cell_type": "code",
      "execution_count": null,
      "metadata": {
        "colab": {
          "base_uri": "https://localhost:8080/"
        },
        "id": "ZOn_JKnZ3KMN",
        "outputId": "2cda7918-a15e-449f-d51c-de0883840711"
      },
      "outputs": [
        {
          "output_type": "execute_result",
          "data": {
            "text/plain": [
              "array([2, 4, 6, 8])"
            ]
          },
          "metadata": {},
          "execution_count": 21
        }
      ],
      "source": [
        "arr = np.array([1, 2, 3, 4, 5, 6, 7, 8])\n",
        "\n",
        "# Enter your code here\n",
        "even_elements = arr[1::2]\n",
        "even_elements"
      ]
    },
    {
      "cell_type": "markdown",
      "metadata": {
        "id": "ENp7XKiF3KMN"
      },
      "source": [
        "<details><summary>Click here for the solution</summary>\n",
        "\n",
        "```python\n",
        "print(arr[1:8:2])\n",
        "\n",
        "    \n",
        "```\n",
        "\n",
        "</details>\n"
      ]
    },
    {
      "cell_type": "markdown",
      "metadata": {
        "id": "WQnJuOuF3KMO"
      },
      "source": [
        "<h3 id=\"list\">Assign Value with List</h3>\n"
      ]
    },
    {
      "cell_type": "markdown",
      "metadata": {
        "id": "kYYBytgu3KMO"
      },
      "source": [
        "Similarly, we can use a list to select more than one specific index.\n",
        "The list `select` contains several values:\n"
      ]
    },
    {
      "cell_type": "code",
      "execution_count": null,
      "metadata": {
        "colab": {
          "base_uri": "https://localhost:8080/"
        },
        "id": "CeUxQ8OF3KMO",
        "outputId": "3102b0b7-875d-4d12-b9f6-cd4bf5580043"
      },
      "outputs": [
        {
          "output_type": "execute_result",
          "data": {
            "text/plain": [
              "[0, 2, 3, 4]"
            ]
          },
          "metadata": {},
          "execution_count": 22
        }
      ],
      "source": [
        "# Create the index list\n",
        "\n",
        "select = [0, 2, 3, 4]\n",
        "select"
      ]
    },
    {
      "cell_type": "markdown",
      "metadata": {
        "id": "sfhf2JOY3KMP"
      },
      "source": [
        "We can use the list as an argument in the brackets. The output is the elements corresponding to the particular indexes:\n"
      ]
    },
    {
      "cell_type": "code",
      "execution_count": null,
      "metadata": {
        "colab": {
          "base_uri": "https://localhost:8080/"
        },
        "id": "xYZm9t0F3KMP",
        "outputId": "6f8c7011-13c1-430f-e817-a776e3307e0c"
      },
      "outputs": [
        {
          "output_type": "stream",
          "name": "stdout",
          "text": [
            "[100   1   2 300 400]\n"
          ]
        },
        {
          "output_type": "execute_result",
          "data": {
            "text/plain": [
              "array([100,   2, 300, 400])"
            ]
          },
          "metadata": {},
          "execution_count": 25
        }
      ],
      "source": [
        "# Use List to select elements\n",
        "\n",
        "print(c)\n",
        "d = c[select]\n",
        "d"
      ]
    },
    {
      "cell_type": "markdown",
      "metadata": {
        "id": "aoK3fKIE3KMP"
      },
      "source": [
        "We can assign the specified elements to a new value. For example, we can assign the values to 100 000 as follows:\n"
      ]
    },
    {
      "cell_type": "code",
      "execution_count": null,
      "metadata": {
        "colab": {
          "base_uri": "https://localhost:8080/"
        },
        "id": "VTCI6xug3KMP",
        "outputId": "79eb2f28-7560-43b8-e789-d886cbd7547d"
      },
      "outputs": [
        {
          "output_type": "execute_result",
          "data": {
            "text/plain": [
              "array([100000,      1, 100000, 100000, 100000])"
            ]
          },
          "metadata": {},
          "execution_count": 26
        }
      ],
      "source": [
        "# Assign the specified elements to new value\n",
        "\n",
        "c[select] = 100000\n",
        "c"
      ]
    },
    {
      "cell_type": "markdown",
      "metadata": {
        "id": "SV1SEqCE3KMP"
      },
      "source": [
        "<h3 id=\"other\">Other Attributes</h3>\n"
      ]
    },
    {
      "cell_type": "markdown",
      "metadata": {
        "id": "nXy4nydb3KMQ"
      },
      "source": [
        "Let's review some basic array attributes using the array <code>a</code>:\n"
      ]
    },
    {
      "cell_type": "code",
      "execution_count": null,
      "metadata": {
        "id": "OcZXF1lK3KMQ",
        "colab": {
          "base_uri": "https://localhost:8080/"
        },
        "outputId": "098af47a-72a9-482d-a220-49315b96db4e"
      },
      "outputs": [
        {
          "output_type": "execute_result",
          "data": {
            "text/plain": [
              "array([0, 1, 2, 3, 4])"
            ]
          },
          "metadata": {},
          "execution_count": 27
        }
      ],
      "source": [
        "# Create a numpy array\n",
        "\n",
        "a = np.array([0, 1, 2, 3, 4])\n",
        "a"
      ]
    },
    {
      "cell_type": "markdown",
      "metadata": {
        "id": "C2NgCHZD3KMQ"
      },
      "source": [
        "The attribute <code>size</code> is the number of elements in the array:\n"
      ]
    },
    {
      "cell_type": "code",
      "execution_count": null,
      "metadata": {
        "id": "YHsIA2nz3KMQ",
        "colab": {
          "base_uri": "https://localhost:8080/"
        },
        "outputId": "d4cdf7ea-35d2-40ea-d8d1-eb2b9c3464fc"
      },
      "outputs": [
        {
          "output_type": "execute_result",
          "data": {
            "text/plain": [
              "5"
            ]
          },
          "metadata": {},
          "execution_count": 28
        }
      ],
      "source": [
        "# Get the size of numpy array\n",
        "\n",
        "a.size"
      ]
    },
    {
      "cell_type": "markdown",
      "metadata": {
        "id": "CI0o46xf3KMR"
      },
      "source": [
        "The next two attributes will make more sense when we get to higher dimensions but let's review them. The attribute <code>ndim</code> represents the number of array dimensions, or the rank of the array. In this case, one:\n"
      ]
    },
    {
      "cell_type": "code",
      "execution_count": null,
      "metadata": {
        "id": "tDzBKdUQ3KMR",
        "colab": {
          "base_uri": "https://localhost:8080/"
        },
        "outputId": "0a57ffda-77e5-4bff-9600-fe368fd964c0"
      },
      "outputs": [
        {
          "output_type": "execute_result",
          "data": {
            "text/plain": [
              "1"
            ]
          },
          "metadata": {},
          "execution_count": 29
        }
      ],
      "source": [
        "# Get the number of dimensions of numpy array\n",
        "\n",
        "a.ndim"
      ]
    },
    {
      "cell_type": "markdown",
      "metadata": {
        "id": "fHJCsIOx3KMR"
      },
      "source": [
        "The attribute <code>shape</code> is a tuple of integers indicating the size of the array in each dimension:\n"
      ]
    },
    {
      "cell_type": "code",
      "execution_count": null,
      "metadata": {
        "id": "pHnHMMYf3KMR",
        "colab": {
          "base_uri": "https://localhost:8080/"
        },
        "outputId": "0e15f3f4-c9fc-43bf-a4d2-efbce97c3dcb"
      },
      "outputs": [
        {
          "output_type": "execute_result",
          "data": {
            "text/plain": [
              "(5,)"
            ]
          },
          "metadata": {},
          "execution_count": 30
        }
      ],
      "source": [
        "# Get the shape/size of numpy array\n",
        "\n",
        "a.shape"
      ]
    },
    {
      "cell_type": "markdown",
      "metadata": {
        "id": "PPjx3fRX3KMS"
      },
      "source": [
        "### Try it yourself\n",
        "\n",
        "Find the size ,dimension and shape for the given array **b**\n"
      ]
    },
    {
      "cell_type": "code",
      "execution_count": null,
      "metadata": {
        "id": "WqYgr9cw3KMS",
        "colab": {
          "base_uri": "https://localhost:8080/"
        },
        "outputId": "5fd8ee1c-79b4-4018-f33b-9e22bf886b6f"
      },
      "outputs": [
        {
          "output_type": "stream",
          "name": "stdout",
          "text": [
            "7\n",
            "1\n",
            "(7,)\n"
          ]
        }
      ],
      "source": [
        "b = np.array([10, 20, 30, 40, 50, 60, 70])\n",
        "\n",
        "# Enter your code here\n",
        "print(b.size)\n",
        "print(b.ndim)\n",
        "print(b.shape)"
      ]
    },
    {
      "cell_type": "markdown",
      "metadata": {
        "id": "dcXLe-WM3KMS"
      },
      "source": [
        "<details><summary>Click here for the solution</summary>\n",
        "\n",
        "```python\n",
        "b.size\n",
        "\n",
        "b.ndim\n",
        "\n",
        "b.shape\n",
        "\n",
        "    \n",
        "```\n",
        "\n",
        "</details>\n"
      ]
    },
    {
      "cell_type": "markdown",
      "metadata": {
        "id": "LIm3QJdA3KMT"
      },
      "source": [
        "### Numpy Statistical Functions\n"
      ]
    },
    {
      "cell_type": "code",
      "execution_count": null,
      "metadata": {
        "id": "RgH-iBnv3KMT"
      },
      "outputs": [],
      "source": [
        "# Create a numpy array\n",
        "\n",
        "a = np.array([1, -1, 1, -1])"
      ]
    },
    {
      "cell_type": "code",
      "execution_count": null,
      "metadata": {
        "id": "Z-DFP1YR3KMT",
        "colab": {
          "base_uri": "https://localhost:8080/"
        },
        "outputId": "ff675021-3d70-4ed5-8f60-7ea240190136"
      },
      "outputs": [
        {
          "output_type": "execute_result",
          "data": {
            "text/plain": [
              "0.0"
            ]
          },
          "metadata": {},
          "execution_count": 37
        }
      ],
      "source": [
        "# Get the mean of numpy array\n",
        "\n",
        "mean = a.mean()\n",
        "mean"
      ]
    },
    {
      "cell_type": "code",
      "execution_count": null,
      "metadata": {
        "id": "7sypQ6xN3KMU",
        "colab": {
          "base_uri": "https://localhost:8080/"
        },
        "outputId": "88556531-a714-49dd-c39e-725ec94b4e25"
      },
      "outputs": [
        {
          "output_type": "execute_result",
          "data": {
            "text/plain": [
              "1.0"
            ]
          },
          "metadata": {},
          "execution_count": 38
        }
      ],
      "source": [
        "# Get the standard deviation of numpy array\n",
        "\n",
        "standard_deviation=a.std()\n",
        "standard_deviation"
      ]
    },
    {
      "cell_type": "code",
      "execution_count": null,
      "metadata": {
        "id": "Px_58-613KMU",
        "colab": {
          "base_uri": "https://localhost:8080/"
        },
        "outputId": "c174afdf-8fa1-4836-a708-6c5b013ca512"
      },
      "outputs": [
        {
          "output_type": "execute_result",
          "data": {
            "text/plain": [
              "array([-1,  2,  3,  4,  5])"
            ]
          },
          "metadata": {},
          "execution_count": 39
        }
      ],
      "source": [
        "# Create a numpy array\n",
        "\n",
        "b = np.array([-1, 2, 3, 4, 5])\n",
        "b"
      ]
    },
    {
      "cell_type": "code",
      "execution_count": null,
      "metadata": {
        "id": "sJCxrfXN3KMU",
        "colab": {
          "base_uri": "https://localhost:8080/"
        },
        "outputId": "a198a552-e8e8-459c-fe59-c017b744cc75"
      },
      "outputs": [
        {
          "output_type": "execute_result",
          "data": {
            "text/plain": [
              "5"
            ]
          },
          "metadata": {},
          "execution_count": 40
        }
      ],
      "source": [
        "# Get the biggest value in the numpy array\n",
        "\n",
        "max_b = b.max()\n",
        "max_b"
      ]
    },
    {
      "cell_type": "code",
      "execution_count": null,
      "metadata": {
        "id": "G4HTssjQ3KMV",
        "colab": {
          "base_uri": "https://localhost:8080/"
        },
        "outputId": "c3c08738-5f1e-41f7-97d8-32468ab2f353"
      },
      "outputs": [
        {
          "output_type": "execute_result",
          "data": {
            "text/plain": [
              "-1"
            ]
          },
          "metadata": {},
          "execution_count": 41
        }
      ],
      "source": [
        "# Get the smallest value in the numpy array\n",
        "\n",
        "min_b = b.min()\n",
        "min_b"
      ]
    },
    {
      "cell_type": "markdown",
      "metadata": {
        "id": "ZIlvPAx-3KMV"
      },
      "source": [
        "### Try it yourself\n",
        "\n",
        "Find the sum of maximum and minimum value in the given numpy array\n"
      ]
    },
    {
      "cell_type": "markdown",
      "metadata": {
        "id": "qKICocUt3KMV"
      },
      "source": [
        "<hr>\n"
      ]
    },
    {
      "cell_type": "code",
      "execution_count": null,
      "metadata": {
        "id": "w-QAFp_l3KMV",
        "colab": {
          "base_uri": "https://localhost:8080/"
        },
        "outputId": "5f52c22e-f432-4641-fe57-8988aa4bdaa7"
      },
      "outputs": [
        {
          "output_type": "execute_result",
          "data": {
            "text/plain": [
              "492"
            ]
          },
          "metadata": {},
          "execution_count": 43
        }
      ],
      "source": [
        "c = np.array([-10, 201, 43, 94, 502])\n",
        "\n",
        "# Enter your code here\n",
        "max = c.max()\n",
        "min = c.min()\n",
        "sum = max + min\n",
        "sum"
      ]
    },
    {
      "cell_type": "markdown",
      "metadata": {
        "id": "mCtLE-vr3KMW"
      },
      "source": [
        "<details><summary>Click here for the solution</summary>\n",
        "\n",
        "```python\n",
        "max_c = c.max()\n",
        "max_c\n",
        "    \n",
        "min_c = c.min()\n",
        "min_c\n",
        "    \n",
        "    \n",
        "Sum = (max_c +min_c)\n",
        "Sum\n",
        "\n",
        "    \n",
        "```\n",
        "\n",
        "</details>\n"
      ]
    },
    {
      "cell_type": "markdown",
      "metadata": {
        "id": "wU3vZGHQ3KMX"
      },
      "source": [
        "<h2 id=\"op\">Numpy Array Operations</h2>\n",
        "\n",
        "You could use arithmetic operators directly between NumPy arrays\n"
      ]
    },
    {
      "cell_type": "markdown",
      "metadata": {
        "id": "KzBG5ztl3KMX"
      },
      "source": [
        "<h3 id=\"add\">Array Addition</h3>\n"
      ]
    },
    {
      "cell_type": "markdown",
      "metadata": {
        "id": "Q9Z5eN0T3KMX"
      },
      "source": [
        "Consider the numpy array <code>u</code>:\n"
      ]
    },
    {
      "cell_type": "code",
      "execution_count": null,
      "metadata": {
        "id": "bml7ZG373KMX",
        "colab": {
          "base_uri": "https://localhost:8080/"
        },
        "outputId": "c2811e1d-2773-4334-a864-44285220ca8a"
      },
      "outputs": [
        {
          "output_type": "execute_result",
          "data": {
            "text/plain": [
              "array([1, 0])"
            ]
          },
          "metadata": {},
          "execution_count": 44
        }
      ],
      "source": [
        "u = np.array([1, 0])\n",
        "u"
      ]
    },
    {
      "cell_type": "markdown",
      "metadata": {
        "id": "kOVtsbB-3KMY"
      },
      "source": [
        "Consider the numpy array <code>v</code>:\n"
      ]
    },
    {
      "cell_type": "code",
      "execution_count": null,
      "metadata": {
        "id": "ZwzSEL9b3KMY",
        "colab": {
          "base_uri": "https://localhost:8080/"
        },
        "outputId": "6fbfa972-20f4-43f8-bc1c-43f3d28c6f0a"
      },
      "outputs": [
        {
          "output_type": "execute_result",
          "data": {
            "text/plain": [
              "array([0, 1])"
            ]
          },
          "metadata": {},
          "execution_count": 45
        }
      ],
      "source": [
        "v = np.array([0, 1])\n",
        "v"
      ]
    },
    {
      "cell_type": "markdown",
      "metadata": {
        "id": "-Y3dXBhJ3KMZ"
      },
      "source": [
        "We can add the two arrays and assign it to z:\n"
      ]
    },
    {
      "cell_type": "code",
      "execution_count": null,
      "metadata": {
        "id": "HTidcHqM3KMZ",
        "colab": {
          "base_uri": "https://localhost:8080/"
        },
        "outputId": "bb22669d-5468-433a-b2bc-5899944cd1b9"
      },
      "outputs": [
        {
          "output_type": "stream",
          "name": "stdout",
          "text": [
            "[1 1]\n"
          ]
        }
      ],
      "source": [
        "# Numpy Array Addition\n",
        "\n",
        "z = np.add(u, v)\n",
        "print(z)"
      ]
    },
    {
      "cell_type": "markdown",
      "metadata": {
        "id": "d1stULz33KMZ"
      },
      "source": [
        "The operation is equivalent to vector addition:\n"
      ]
    },
    {
      "cell_type": "code",
      "execution_count": null,
      "metadata": {
        "id": "vPy92UFU3KMZ"
      },
      "outputs": [],
      "source": [
        "# Plotting functions\n",
        "\n",
        "\n",
        "import time \n",
        "import sys\n",
        "import numpy as np \n",
        "\n",
        "import matplotlib.pyplot as plt\n",
        "%matplotlib inline  \n",
        "\n",
        "def Plotvec1(u, z, v):\n",
        "    \n",
        "  ax = plt.axes() # to generate the full window axes\n",
        "  ax.arrow(0, 0, *u, head_width=0.05, color='r', head_length=0.1)# Add an arrow to the  U Axes with arrow head width 0.05, color red and arrow head length 0.1\n",
        "  plt.text(*(u + 0.1), 'u')#Adds the text u to the Axes \n",
        "  \n",
        "  ax.arrow(0, 0, *v, head_width=0.05, color='b', head_length=0.1)# Add an arrow to the  v Axes with arrow head width 0.05, color red and arrow head length 0.1\n",
        "  plt.text(*(v + 0.1), 'v')#Adds the text v to the Axes \n",
        "  \n",
        "  ax.arrow(0, 0, *z, head_width=0.05, head_length=0.1)\n",
        "  plt.text(*(z + 0.1), 'z')#Adds the text z to the Axes \n",
        "  plt.ylim(-2, 2)#set the ylim to bottom(-2), top(2)\n",
        "  plt.xlim(-2, 2)#set the xlim to left(-2), right(2)\n",
        "\n",
        "  \n"
      ]
    },
    {
      "cell_type": "code",
      "execution_count": null,
      "metadata": {
        "id": "xJd7ozX83KMa",
        "colab": {
          "base_uri": "https://localhost:8080/",
          "height": 269
        },
        "outputId": "01462a32-bada-4594-89a5-b4e651bdbaf9"
      },
      "outputs": [
        {
          "output_type": "display_data",
          "data": {
            "text/plain": [
              "<Figure size 432x288 with 1 Axes>"
            ],
            "image/png": "[encoded data removed]"
          },
          "metadata": {
            "needs_background": "light"
          }
        }
      ],
      "source": [
        "# Plot numpy arrays\n",
        "\n",
        "Plotvec1(u, z, v)"
      ]
    },
    {
      "cell_type": "markdown",
      "metadata": {
        "id": "D0LSqM7t3KMa"
      },
      "source": [
        "### Try it yourself\n",
        "\n",
        "Perform addition operation on the given numpy array arr1 and arr2:\n"
      ]
    },
    {
      "cell_type": "code",
      "execution_count": null,
      "metadata": {
        "id": "MtNutPry3KMa",
        "colab": {
          "base_uri": "https://localhost:8080/"
        },
        "outputId": "1d96dc31-b620-4f16-d1f6-5117a559f7a2"
      },
      "outputs": [
        {
          "output_type": "execute_result",
          "data": {
            "text/plain": [
              "array([30, 32, 34, 36, 38, 40])"
            ]
          },
          "metadata": {},
          "execution_count": 57
        }
      ],
      "source": [
        "arr1 = np.array([10, 11, 12, 13, 14, 15])\n",
        "arr2 = np.array([20, 21, 22, 23, 24, 25])\n",
        "\n",
        "# Enter your code here\n",
        "sum = np.add(arr1, arr2)\n",
        "sum"
      ]
    },
    {
      "cell_type": "markdown",
      "metadata": {
        "id": "AWYJWE6g3KMb"
      },
      "source": [
        "<details><summary>Click here for the solution</summary>\n",
        "\n",
        "```python\n",
        "arr3 = np.add(arr1, arr2)\n",
        "arr3\n",
        "\n",
        "    \n",
        "```\n",
        "\n",
        "</details>\n"
      ]
    },
    {
      "cell_type": "markdown",
      "metadata": {
        "id": "Y8Am5ZFi3KMc"
      },
      "source": [
        "### Array Subtraction\n"
      ]
    },
    {
      "cell_type": "markdown",
      "metadata": {
        "id": "2P_63U4Q3KMd"
      },
      "source": [
        "Consider the numpy array a:\n"
      ]
    },
    {
      "cell_type": "code",
      "execution_count": null,
      "metadata": {
        "id": "jsel2Xg-3KMe",
        "colab": {
          "base_uri": "https://localhost:8080/"
        },
        "outputId": "0754e4bc-73c6-46c4-e68d-a7d94a59cce5"
      },
      "outputs": [
        {
          "output_type": "execute_result",
          "data": {
            "text/plain": [
              "array([10, 20, 30])"
            ]
          },
          "metadata": {},
          "execution_count": 58
        }
      ],
      "source": [
        "a = np.array([10, 20, 30])\n",
        "a"
      ]
    },
    {
      "cell_type": "markdown",
      "metadata": {
        "id": "aTRegNvm3KMe"
      },
      "source": [
        "Consider the numpy array b:\n"
      ]
    },
    {
      "cell_type": "code",
      "execution_count": null,
      "metadata": {
        "id": "aX4oA3Du3KMf",
        "colab": {
          "base_uri": "https://localhost:8080/"
        },
        "outputId": "c71052b5-1732-4e5b-eb2f-9a5f944258c2"
      },
      "outputs": [
        {
          "output_type": "execute_result",
          "data": {
            "text/plain": [
              "array([ 5, 10, 15])"
            ]
          },
          "metadata": {},
          "execution_count": 59
        }
      ],
      "source": [
        "b = np.array([5, 10, 15])\n",
        "b"
      ]
    },
    {
      "cell_type": "markdown",
      "metadata": {
        "id": "ivdj9gkN3KMf"
      },
      "source": [
        "We can subtract the two arrays and assign it to c:\n"
      ]
    },
    {
      "cell_type": "code",
      "execution_count": null,
      "metadata": {
        "id": "n0rZsyuz3KMf",
        "colab": {
          "base_uri": "https://localhost:8080/"
        },
        "outputId": "b10ac008-8751-4eff-f7ad-de83d88f0314"
      },
      "outputs": [
        {
          "output_type": "stream",
          "name": "stdout",
          "text": [
            "[ 5 10 15]\n"
          ]
        }
      ],
      "source": [
        "c = np.subtract(a, b)\n",
        "\n",
        "print(c)"
      ]
    },
    {
      "cell_type": "markdown",
      "metadata": {
        "id": "gXT1EJ4q3KMg"
      },
      "source": [
        "### Try it yourself\n",
        "\n",
        "Perform subtraction operation on the given numpy array arr1 and arr2:\n"
      ]
    },
    {
      "cell_type": "code",
      "execution_count": null,
      "metadata": {
        "id": "3FH0wHFG3KMg",
        "colab": {
          "base_uri": "https://localhost:8080/"
        },
        "outputId": "2e07bd5e-db12-45fc-89ac-12d3d504d6b4"
      },
      "outputs": [
        {
          "output_type": "execute_result",
          "data": {
            "text/plain": [
              "array([-10,  -1,   8,  17,  26,  35])"
            ]
          },
          "metadata": {},
          "execution_count": 62
        }
      ],
      "source": [
        "arr1 = np.array([10, 20, 30, 40, 50, 60])\n",
        "arr2 = np.array([20, 21, 22, 23, 24, 25])\n",
        "\n",
        "# Enter your code here\n",
        "sub = np.subtract(arr1, arr2)\n",
        "sub"
      ]
    },
    {
      "cell_type": "markdown",
      "metadata": {
        "id": "RBNQUQqL3KMh"
      },
      "source": [
        "<details><summary>Click here for the solution</summary>\n",
        "\n",
        "```python\n",
        "arr3 = np.subtract(arr1, arr2)\n",
        "arr3\n",
        "\n",
        "    \n",
        "```\n",
        "\n",
        "</details>\n"
      ]
    },
    {
      "cell_type": "markdown",
      "metadata": {
        "id": "Rx8cJF4B3KMh"
      },
      "source": [
        "<h3 id=\"multi\">Array Multiplication</h3>\n"
      ]
    },
    {
      "cell_type": "markdown",
      "metadata": {
        "id": "cUM3CehW3KMh"
      },
      "source": [
        "Consider the vector numpy array <code>y</code>:\n"
      ]
    },
    {
      "cell_type": "code",
      "execution_count": null,
      "metadata": {
        "id": "oUmmxPPO3KMh",
        "colab": {
          "base_uri": "https://localhost:8080/"
        },
        "outputId": "0a2feb14-e87a-40fa-c61f-e3fa2a96bb16"
      },
      "outputs": [
        {
          "output_type": "execute_result",
          "data": {
            "text/plain": [
              "array([1, 2])"
            ]
          },
          "metadata": {},
          "execution_count": 63
        }
      ],
      "source": [
        "# Create a numpy array\n",
        "\n",
        "x = np.array([1, 2])\n",
        "x"
      ]
    },
    {
      "cell_type": "code",
      "execution_count": null,
      "metadata": {
        "id": "BCOUKZBF3KMi",
        "colab": {
          "base_uri": "https://localhost:8080/"
        },
        "outputId": "c7f4ab2f-89e3-44a9-9538-bc288f69d76c"
      },
      "outputs": [
        {
          "output_type": "execute_result",
          "data": {
            "text/plain": [
              "array([2, 1])"
            ]
          },
          "metadata": {},
          "execution_count": 64
        }
      ],
      "source": [
        "# Create a numpy array\n",
        "\n",
        "y = np.array([2, 1])\n",
        "y"
      ]
    },
    {
      "cell_type": "markdown",
      "metadata": {
        "id": "l32OYAbO3KMi"
      },
      "source": [
        "We can multiply every element in the array by 2:\n"
      ]
    },
    {
      "cell_type": "code",
      "execution_count": null,
      "metadata": {
        "id": "CsuaHC_v3KMi",
        "colab": {
          "base_uri": "https://localhost:8080/"
        },
        "outputId": "cb7ad7a0-4105-4563-b6f9-3ec12c7cb3c0"
      },
      "outputs": [
        {
          "output_type": "execute_result",
          "data": {
            "text/plain": [
              "array([2, 2])"
            ]
          },
          "metadata": {},
          "execution_count": 65
        }
      ],
      "source": [
        "# Numpy Array Multiplication\n",
        "\n",
        "z = np.multiply(x, y)\n",
        "z"
      ]
    },
    {
      "cell_type": "markdown",
      "metadata": {
        "id": "sTiDmoua3KMj"
      },
      "source": [
        "This is equivalent to multiplying a vector by a scaler:\n"
      ]
    },
    {
      "cell_type": "markdown",
      "metadata": {
        "id": "jDOShw1u3KMj"
      },
      "source": [
        "### Try it yourself\n",
        "\n",
        "Perform multiply operation on the given numpy array arr1 and arr2:\n"
      ]
    },
    {
      "cell_type": "code",
      "execution_count": null,
      "metadata": {
        "id": "61KmWLIa3KMk",
        "colab": {
          "base_uri": "https://localhost:8080/"
        },
        "outputId": "1262e2bc-4a04-47ee-c4f9-e9195dc1369b"
      },
      "outputs": [
        {
          "output_type": "execute_result",
          "data": {
            "text/plain": [
              "array([ 20,  20,  60, 120, 200, 300])"
            ]
          },
          "metadata": {},
          "execution_count": 67
        }
      ],
      "source": [
        "arr1 = np.array([10, 20, 30, 40, 50, 60])\n",
        "arr2 = np.array([2, 1, 2, 3, 4, 5])\n",
        "\n",
        "# Enter your code here\n",
        "mul = np.multiply(arr1, arr2)\n",
        "mul"
      ]
    },
    {
      "cell_type": "markdown",
      "metadata": {
        "id": "V_46aacz3KMl"
      },
      "source": [
        "<details><summary>Click here for the solution</summary>\n",
        "\n",
        "```python\n",
        "arr3 = np.multiply(arr1, arr2)\n",
        "arr3\n",
        "\n",
        "    \n",
        "```\n",
        "\n",
        "</details>\n"
      ]
    },
    {
      "cell_type": "markdown",
      "metadata": {
        "id": "Ez2SrfLc3KMm"
      },
      "source": [
        "### Array Division\n"
      ]
    },
    {
      "cell_type": "markdown",
      "metadata": {
        "id": "6MbNu3cy3KMm"
      },
      "source": [
        "Consider the vector numpy array a:\n"
      ]
    },
    {
      "cell_type": "code",
      "execution_count": null,
      "metadata": {
        "id": "C097GDGV3KMm",
        "colab": {
          "base_uri": "https://localhost:8080/"
        },
        "outputId": "b296f872-91af-4602-f385-feb054287a7d"
      },
      "outputs": [
        {
          "output_type": "execute_result",
          "data": {
            "text/plain": [
              "array([10, 20, 30])"
            ]
          },
          "metadata": {},
          "execution_count": 68
        }
      ],
      "source": [
        "a = np.array([10, 20, 30])\n",
        "a"
      ]
    },
    {
      "cell_type": "markdown",
      "metadata": {
        "id": "s-dbTKY73KMn"
      },
      "source": [
        "Consider the vector numpy array b:\n"
      ]
    },
    {
      "cell_type": "code",
      "execution_count": null,
      "metadata": {
        "id": "DTGwv7xI3KMo",
        "colab": {
          "base_uri": "https://localhost:8080/"
        },
        "outputId": "efec0a92-5100-4897-c58f-14bf82b77ad2"
      },
      "outputs": [
        {
          "output_type": "execute_result",
          "data": {
            "text/plain": [
              "array([ 2, 10,  5])"
            ]
          },
          "metadata": {},
          "execution_count": 69
        }
      ],
      "source": [
        "b = np.array([2, 10, 5])\n",
        "b"
      ]
    },
    {
      "cell_type": "markdown",
      "metadata": {
        "id": "VuOmkm1U3KMo"
      },
      "source": [
        "We can divide the two arrays and assign it to c:\n"
      ]
    },
    {
      "cell_type": "code",
      "execution_count": null,
      "metadata": {
        "id": "WQtO1oX13KMo",
        "colab": {
          "base_uri": "https://localhost:8080/"
        },
        "outputId": "2e2711f3-2967-47ab-a795-e9eb1fda3adb"
      },
      "outputs": [
        {
          "output_type": "execute_result",
          "data": {
            "text/plain": [
              "array([5., 2., 6.])"
            ]
          },
          "metadata": {},
          "execution_count": 70
        }
      ],
      "source": [
        "c = np.divide(a, b)\n",
        "c"
      ]
    },
    {
      "cell_type": "markdown",
      "metadata": {
        "id": "eofuydRt3KMo"
      },
      "source": [
        "### Try it yourself\n",
        "\n",
        "Perform division operation on the given numpy array arr1 and arr2:\n"
      ]
    },
    {
      "cell_type": "code",
      "execution_count": null,
      "metadata": {
        "id": "Hwy_ZNrO3KMo",
        "colab": {
          "base_uri": "https://localhost:8080/"
        },
        "outputId": "3e69e5ab-c967-4d0c-8667-7a0becf01d1e"
      },
      "outputs": [
        {
          "output_type": "execute_result",
          "data": {
            "text/plain": [
              "array([ 3.33333333,  4.        ,  3.        ,  5.        , 25.        ,\n",
              "        1.81818182])"
            ]
          },
          "metadata": {},
          "execution_count": 72
        }
      ],
      "source": [
        "arr1 = np.array([10, 20, 30, 40, 50, 60])\n",
        "arr2 = np.array([3, 5, 10, 8, 2, 33])\n",
        "\n",
        "# Enter your code here\n",
        "div = np.divide(arr1, arr2)\n",
        "div"
      ]
    },
    {
      "cell_type": "markdown",
      "metadata": {
        "id": "9bQcMwi03KMq"
      },
      "source": [
        "<details><summary>Click here for the solution</summary>\n",
        "\n",
        "```python\n",
        "arr3 = np.divide(arr1, arr2)\n",
        "arr3\n",
        "\n",
        "    \n",
        "```\n",
        "\n",
        "</details>\n"
      ]
    },
    {
      "cell_type": "markdown",
      "metadata": {
        "id": "1NeNybKc3KMq"
      },
      "source": [
        "<h3 id=\"dot\">Dot Product</h3>\n"
      ]
    },
    {
      "cell_type": "markdown",
      "metadata": {
        "id": "0-MLz4Da3KMq"
      },
      "source": [
        "The dot product of the two numpy arrays <code>u</code> and <code>v</code> is given by:\n"
      ]
    },
    {
      "cell_type": "code",
      "execution_count": null,
      "metadata": {
        "id": "UngykIII3KMq"
      },
      "outputs": [],
      "source": [
        "X = np.array([1, 2])\n",
        "Y = np.array([3, 2])"
      ]
    },
    {
      "cell_type": "code",
      "execution_count": null,
      "metadata": {
        "id": "j5F6Htnu3KMr",
        "colab": {
          "base_uri": "https://localhost:8080/"
        },
        "outputId": "30701836-ead9-40cf-8dd2-67af48f7be7c"
      },
      "outputs": [
        {
          "output_type": "execute_result",
          "data": {
            "text/plain": [
              "7"
            ]
          },
          "metadata": {},
          "execution_count": 74
        }
      ],
      "source": [
        "# Calculate the dot product\n",
        "\n",
        "np.dot(X, Y)"
      ]
    },
    {
      "cell_type": "code",
      "execution_count": null,
      "metadata": {
        "id": "_Ch-xvyG3KMr",
        "colab": {
          "base_uri": "https://localhost:8080/"
        },
        "outputId": "8ba9cded-586c-4469-d604-da1eaf9d6d10"
      },
      "outputs": [
        {
          "output_type": "stream",
          "name": "stdout",
          "text": [
            "1\n",
            "2\n"
          ]
        }
      ],
      "source": [
        "#Elements of X\n",
        "print(X[0])\n",
        "print(X[1])"
      ]
    },
    {
      "cell_type": "code",
      "execution_count": null,
      "metadata": {
        "id": "irIzGX6a3KMr",
        "colab": {
          "base_uri": "https://localhost:8080/"
        },
        "outputId": "d162ec64-3d15-47fa-e0fd-cc686805a8d3"
      },
      "outputs": [
        {
          "output_type": "stream",
          "name": "stdout",
          "text": [
            "3\n",
            "2\n"
          ]
        }
      ],
      "source": [
        "#Elements of Y\n",
        "print(Y[0])\n",
        "print(Y[1])"
      ]
    },
    {
      "cell_type": "markdown",
      "metadata": {
        "id": "glmP1uAW3KMr"
      },
      "source": [
        "We are performing the dot product which is shown as below\n"
      ]
    },
    {
      "cell_type": "markdown",
      "metadata": {
        "id": "FuikGXy43KMr"
      },
      "source": [
        "<img src=\"https://cf-courses-data.s3.us.cloud-object-storage.appdomain.cloud/IBMDeveloperSkillsNetwork-PY0101EN-SkillsNetwork/labs/Module%205/images/dot1.png\">\n"
      ]
    },
    {
      "cell_type": "markdown",
      "metadata": {
        "id": "7eZSE7f53KMr"
      },
      "source": [
        "### Try it yourself\n",
        "\n",
        "Perform dot operation on the given numpy array ar1 and ar2:\n"
      ]
    },
    {
      "cell_type": "code",
      "execution_count": null,
      "metadata": {
        "id": "wmpgT62W3KMs",
        "colab": {
          "base_uri": "https://localhost:8080/"
        },
        "outputId": "72f38885-65c2-4db7-afdf-b6a5667a9c2a"
      },
      "outputs": [
        {
          "output_type": "execute_result",
          "data": {
            "text/plain": [
              "26"
            ]
          },
          "metadata": {},
          "execution_count": 78
        }
      ],
      "source": [
        "arr1 = np.array([3, 5])\n",
        "arr2 = np.array([2, 4])\n",
        "\n",
        "# Enter your code here\n",
        "dot_product = np.dot(arr1, arr2)\n",
        "dot_product"
      ]
    },
    {
      "cell_type": "markdown",
      "metadata": {
        "id": "tot4P6ST3KMs"
      },
      "source": [
        "<details><summary>Click here for the solution</summary>\n",
        "\n",
        "```python\n",
        "arr3 = np.dot(arr1, arr2)\n",
        "arr3\n",
        "\n",
        "    \n",
        "```\n",
        "\n",
        "</details>\n"
      ]
    },
    {
      "cell_type": "markdown",
      "metadata": {
        "id": "8yxFEFCB3KMs"
      },
      "source": [
        "<h3 id=\"cons\">Adding Constant to a Numpy Array</h3>\n"
      ]
    },
    {
      "cell_type": "markdown",
      "metadata": {
        "id": "PPkX77rC3KMt"
      },
      "source": [
        "Consider the following array:\n"
      ]
    },
    {
      "cell_type": "code",
      "execution_count": null,
      "metadata": {
        "id": "E-8_-Ufj3KMt",
        "colab": {
          "base_uri": "https://localhost:8080/"
        },
        "outputId": "7e35173b-bbce-44cc-aa15-ab7dc43a1f27"
      },
      "outputs": [
        {
          "output_type": "execute_result",
          "data": {
            "text/plain": [
              "array([ 1,  2,  3, -1])"
            ]
          },
          "metadata": {},
          "execution_count": 79
        }
      ],
      "source": [
        "# Create a constant to numpy array\n",
        "\n",
        "u = np.array([1, 2, 3, -1]) \n",
        "u"
      ]
    },
    {
      "cell_type": "markdown",
      "metadata": {
        "id": "6pHa7Z1e3KMt"
      },
      "source": [
        "Adding the constant 1 to each element in the array:\n"
      ]
    },
    {
      "cell_type": "code",
      "execution_count": null,
      "metadata": {
        "id": "_xlGg6F63KMt",
        "colab": {
          "base_uri": "https://localhost:8080/"
        },
        "outputId": "b21ebbfc-e640-4ce0-b81c-788e7402160a"
      },
      "outputs": [
        {
          "output_type": "execute_result",
          "data": {
            "text/plain": [
              "array([2, 3, 4, 0])"
            ]
          },
          "metadata": {},
          "execution_count": 80
        }
      ],
      "source": [
        "# Add the constant to array\n",
        "\n",
        "u + 1"
      ]
    },
    {
      "cell_type": "markdown",
      "metadata": {
        "id": "7TiLiiRo3KMu"
      },
      "source": [
        "The process is summarised in the following animation:\n"
      ]
    },
    {
      "cell_type": "markdown",
      "metadata": {
        "id": "1w2itZtC3KMu"
      },
      "source": [
        "<img src=\"https://cf-courses-data.s3.us.cloud-object-storage.appdomain.cloud/IBMDeveloperSkillsNetwork-PY0101EN-SkillsNetwork/labs/Module%205/images/NumOneAdd.gif\" width=\"500\" />\n"
      ]
    },
    {
      "cell_type": "markdown",
      "metadata": {
        "id": "DbAx610L3KMu"
      },
      "source": [
        "### Try it yourself\n",
        "\n",
        "Add Constant 5 to the given numpy array ar:\n"
      ]
    },
    {
      "cell_type": "code",
      "execution_count": null,
      "metadata": {
        "id": "uIqJqwPR3KMu",
        "colab": {
          "base_uri": "https://localhost:8080/"
        },
        "outputId": "1e518926-ac64-42c4-eaa0-cc62136d9156"
      },
      "outputs": [
        {
          "output_type": "stream",
          "name": "stdout",
          "text": [
            "[6 7 8 4]\n"
          ]
        }
      ],
      "source": [
        "arr = np.array([1, 2, 3, -1]) \n",
        "\n",
        "# Enter your code here\n",
        "print(arr + 5)"
      ]
    },
    {
      "cell_type": "markdown",
      "metadata": {
        "id": "DytUXOuV3KMv"
      },
      "source": [
        "<details><summary>Click here for the solution</summary>\n",
        "\n",
        "```python\n",
        "arr + 5\n",
        "\n",
        "    \n",
        "```\n",
        "\n",
        "</details>\n"
      ]
    },
    {
      "cell_type": "markdown",
      "metadata": {
        "id": "tijGqGW83KMv"
      },
      "source": [
        "<hr>\n"
      ]
    },
    {
      "cell_type": "markdown",
      "metadata": {
        "id": "Ti9ym-rt3KMv"
      },
      "source": [
        "<h2 id=\"math\">Mathematical Functions</h2>\n"
      ]
    },
    {
      "cell_type": "markdown",
      "metadata": {
        "id": "NWACI-8H3KMv"
      },
      "source": [
        "We can access the value of <code>pi</code> in numpy as follows :\n"
      ]
    },
    {
      "cell_type": "code",
      "execution_count": null,
      "metadata": {
        "id": "hfo18R8e3KMw",
        "colab": {
          "base_uri": "https://localhost:8080/"
        },
        "outputId": "38307eda-e7ae-457a-e041-17694f614820"
      },
      "outputs": [
        {
          "output_type": "execute_result",
          "data": {
            "text/plain": [
              "3.141592653589793"
            ]
          },
          "metadata": {},
          "execution_count": 85
        }
      ],
      "source": [
        "# The value of pi\n",
        "\n",
        "np.pi"
      ]
    },
    {
      "cell_type": "markdown",
      "metadata": {
        "id": "spxb_DbA3KMw"
      },
      "source": [
        "We can create the following numpy array in Radians:\n"
      ]
    },
    {
      "cell_type": "code",
      "execution_count": 87,
      "metadata": {
        "id": "Q7Hlf6rH3KMw",
        "colab": {
          "base_uri": "https://localhost:8080/"
        },
        "outputId": "866ab9bc-637b-4998-dc9f-3c9e98dda4cf"
      },
      "outputs": [
        {
          "output_type": "execute_result",
          "data": {
            "text/plain": [
              "array([0.        , 1.57079633, 3.14159265])"
            ]
          },
          "metadata": {},
          "execution_count": 87
        }
      ],
      "source": [
        "# Create the numpy array in radians\n",
        "\n",
        "x = np.array([0, np.pi/2 , np.pi])\n",
        "x"
      ]
    },
    {
      "cell_type": "markdown",
      "metadata": {
        "id": "PV_muoLY3KMw"
      },
      "source": [
        "We can apply the function <code>sin</code> to the array <code>x</code> and assign the values to the array <code>y</code>; this applies the sine function to each element in the array:\n"
      ]
    },
    {
      "cell_type": "code",
      "execution_count": 88,
      "metadata": {
        "id": "AyUEx7dI3KMw",
        "colab": {
          "base_uri": "https://localhost:8080/"
        },
        "outputId": "3b5c43e1-2a27-4a46-98a2-419bbdc8469e"
      },
      "outputs": [
        {
          "output_type": "execute_result",
          "data": {
            "text/plain": [
              "array([0.0000000e+00, 1.0000000e+00, 1.2246468e-16])"
            ]
          },
          "metadata": {},
          "execution_count": 88
        }
      ],
      "source": [
        "# Calculate the sin of each elements\n",
        "\n",
        "y = np.sin(x)\n",
        "y"
      ]
    },
    {
      "cell_type": "markdown",
      "metadata": {
        "id": "GZXHCe3H3KMx"
      },
      "source": [
        "<hr>\n"
      ]
    },
    {
      "cell_type": "markdown",
      "metadata": {
        "id": "HqgqX2BN3KMx"
      },
      "source": [
        "<h2 id=\"lin\">Linspace</h2>\n"
      ]
    },
    {
      "cell_type": "markdown",
      "metadata": {
        "id": "rzcEAXc03KMx"
      },
      "source": [
        "A useful function for plotting mathematical functions is <code>linspace</code>.   Linspace returns evenly spaced numbers over a specified interval.\n",
        "\n",
        "**numpy.linspace(start, stop, num = int value)**\n",
        "\n",
        "start  :  start of interval range\n",
        "\n",
        "stop   :  end of interval range\n",
        "\n",
        "num    :  Number of samples to generate.\n"
      ]
    },
    {
      "cell_type": "code",
      "execution_count": 89,
      "metadata": {
        "id": "001GMQW-3KMx",
        "colab": {
          "base_uri": "https://localhost:8080/"
        },
        "outputId": "93dd10d0-4d40-4c53-9ba1-fea705bdf46e"
      },
      "outputs": [
        {
          "output_type": "execute_result",
          "data": {
            "text/plain": [
              "array([-2., -1.,  0.,  1.,  2.])"
            ]
          },
          "metadata": {},
          "execution_count": 89
        }
      ],
      "source": [
        "# Makeup a numpy array within [-2, 2] and 5 elements\n",
        "\n",
        "np.linspace(-2, 2, num=5)"
      ]
    },
    {
      "cell_type": "markdown",
      "metadata": {
        "id": "QWeCAYAa3KMy"
      },
      "source": [
        "If we change the parameter <code>num</code> to 9, we get 9 evenly spaced numbers over the interval from -2 to 2:\n"
      ]
    },
    {
      "cell_type": "code",
      "execution_count": 90,
      "metadata": {
        "id": "caktHMAh3KMy",
        "colab": {
          "base_uri": "https://localhost:8080/"
        },
        "outputId": "99ce70ac-7aa2-4369-e0ff-f3ec59fea2d4"
      },
      "outputs": [
        {
          "output_type": "execute_result",
          "data": {
            "text/plain": [
              "array([-2. , -1.5, -1. , -0.5,  0. ,  0.5,  1. ,  1.5,  2. ])"
            ]
          },
          "metadata": {},
          "execution_count": 90
        }
      ],
      "source": [
        "# Make a numpy array within [-2, 2] and 9 elements\n",
        "\n",
        "np.linspace(-2, 2, num=9)"
      ]
    },
    {
      "cell_type": "markdown",
      "metadata": {
        "id": "uNK7uOJy3KMy"
      },
      "source": [
        "We can use the function <code>linspace</code> to generate 100 evenly spaced samples from the interval 0 to 2π:\n"
      ]
    },
    {
      "cell_type": "code",
      "execution_count": 91,
      "metadata": {
        "id": "e-aswoXR3KMy"
      },
      "outputs": [],
      "source": [
        "# Make a numpy array within [0, 2π] and 100 elements \n",
        "\n",
        "x = np.linspace(0, 2*np.pi, num=100)"
      ]
    },
    {
      "cell_type": "markdown",
      "metadata": {
        "id": "QRBfddZL3KMz"
      },
      "source": [
        "We can apply the sine function to each element in the array <code>x</code> and assign it to the array <code>y</code>:\n"
      ]
    },
    {
      "cell_type": "code",
      "execution_count": 92,
      "metadata": {
        "id": "sTrMwT8j3KMz"
      },
      "outputs": [],
      "source": [
        "# Calculate the sine of x list\n",
        "\n",
        "y = np.sin(x)"
      ]
    },
    {
      "cell_type": "code",
      "execution_count": 93,
      "metadata": {
        "id": "tZ76AJdF3KMz",
        "colab": {
          "base_uri": "https://localhost:8080/",
          "height": 282
        },
        "outputId": "90a0542d-67cc-454a-89a4-325186bddfa8"
      },
      "outputs": [
        {
          "output_type": "execute_result",
          "data": {
            "text/plain": [
              "[<matplotlib.lines.Line2D at 0x7f0cdee39f10>]"
            ]
          },
          "metadata": {},
          "execution_count": 93
        },
        {
          "output_type": "display_data",
          "data": {
            "text/plain": [
              "<Figure size 432x288 with 1 Axes>"
            ],
            "image/png": "[encoded data removed]"
          },
          "metadata": {
            "needs_background": "light"
          }
        }
      ],
      "source": [
        "# Plot the result\n",
        "\n",
        "plt.plot(x, y)"
      ]
    },
    {
      "cell_type": "markdown",
      "metadata": {
        "id": "ZRsA1g883KMz"
      },
      "source": [
        "### Try it yourself\n",
        "\n",
        "Make a numpy array within \\[5, 4] and 6 elements\n"
      ]
    },
    {
      "cell_type": "code",
      "execution_count": 95,
      "metadata": {
        "id": "kQNnLDCY3KM0",
        "colab": {
          "base_uri": "https://localhost:8080/"
        },
        "outputId": "c9c6dbcb-b74a-4a76-86b9-4255f1fd5ca8"
      },
      "outputs": [
        {
          "output_type": "execute_result",
          "data": {
            "text/plain": [
              "array([5. , 4.8, 4.6, 4.4, 4.2, 4. ])"
            ]
          },
          "metadata": {},
          "execution_count": 95
        }
      ],
      "source": [
        "# Enter your code here\n",
        "np.linspace(5, 4, num = 6)"
      ]
    },
    {
      "cell_type": "markdown",
      "metadata": {
        "id": "r7bbxOrn3KM0"
      },
      "source": [
        "<details><summary>Click here for the solution</summary>\n",
        "\n",
        "```python\n",
        "np.linspace(5, 4, num=6)\n",
        "\n",
        "    \n",
        "```\n",
        "\n",
        "</details>\n"
      ]
    },
    {
      "cell_type": "markdown",
      "metadata": {
        "id": "cTi4vFw13KM1"
      },
      "source": [
        "<hr>\n"
      ]
    },
    {
      "cell_type": "markdown",
      "metadata": {
        "id": "5jYgAV0j3KM1"
      },
      "source": [
        "### Iterating 1-D Arrays\n",
        "\n",
        "Iterating means going through elements one by one.\n",
        "\n",
        "If we iterate on a 1-D array it will go through each element one by one.\n"
      ]
    },
    {
      "cell_type": "markdown",
      "metadata": {
        "id": "7VYxXOkS3KM1"
      },
      "source": [
        "If we execute the numpy array, we get in the array format\n"
      ]
    },
    {
      "cell_type": "code",
      "execution_count": 96,
      "metadata": {
        "id": "_1fsDe0n3KM2",
        "colab": {
          "base_uri": "https://localhost:8080/"
        },
        "outputId": "4e133496-44ae-460c-ee7d-3bf82cdb289d"
      },
      "outputs": [
        {
          "output_type": "stream",
          "name": "stdout",
          "text": [
            "[1 2 3]\n"
          ]
        }
      ],
      "source": [
        "arr1 = np.array([1, 2, 3])\n",
        "print(arr1)"
      ]
    },
    {
      "cell_type": "markdown",
      "metadata": {
        "id": "ng0f4WkN3KM2"
      },
      "source": [
        "But if you want to result in the form of the list, then you can use for loop:\n"
      ]
    },
    {
      "cell_type": "code",
      "execution_count": 97,
      "metadata": {
        "id": "OXEghccx3KM3",
        "colab": {
          "base_uri": "https://localhost:8080/"
        },
        "outputId": "eddeea2f-c53f-45ef-9917-dfeaf552f25f"
      },
      "outputs": [
        {
          "output_type": "stream",
          "name": "stdout",
          "text": [
            "1\n",
            "2\n",
            "3\n"
          ]
        }
      ],
      "source": [
        "for x in arr1:\n",
        "  print(x)"
      ]
    },
    {
      "cell_type": "markdown",
      "metadata": {
        "id": "NbZoxUYW3KM3"
      },
      "source": [
        "<h2 id=\"quiz\">Quiz on 1D Numpy Array</h2>\n"
      ]
    },
    {
      "cell_type": "markdown",
      "metadata": {
        "id": "pQHkB7IL3KM4"
      },
      "source": [
        "Implement the following vector subtraction in numpy: u-v\n"
      ]
    },
    {
      "cell_type": "code",
      "execution_count": 99,
      "metadata": {
        "id": "yeXuOXAY3KM4",
        "colab": {
          "base_uri": "https://localhost:8080/"
        },
        "outputId": "69b5bfb5-56fa-4d15-f297-b24eed4a08d4"
      },
      "outputs": [
        {
          "output_type": "execute_result",
          "data": {
            "text/plain": [
              "array([ 1, -1])"
            ]
          },
          "metadata": {},
          "execution_count": 99
        }
      ],
      "source": [
        "# Write your code below and press Shift+Enter to execute\n",
        "\n",
        "u = np.array([1, 0])\n",
        "v = np.array([0, 1])\n",
        "\n",
        "sub = np.subtract(u, v)\n",
        "sub"
      ]
    },
    {
      "cell_type": "markdown",
      "metadata": {
        "id": "1-k5wDD93KM4"
      },
      "source": [
        "<details><summary>Click here for the solution</summary>\n",
        "\n",
        "```python\n",
        "u - v\n",
        "```\n",
        "\n",
        "</details>\n"
      ]
    },
    {
      "cell_type": "markdown",
      "metadata": {
        "id": "frhxGPcj3KM5"
      },
      "source": [
        "<hr>\n"
      ]
    },
    {
      "cell_type": "markdown",
      "metadata": {
        "id": "v549c9sD3KM5"
      },
      "source": [
        "Multiply the numpy array z with -2:\n"
      ]
    },
    {
      "cell_type": "code",
      "execution_count": 100,
      "metadata": {
        "id": "qwf6qP-C3KM6",
        "colab": {
          "base_uri": "https://localhost:8080/"
        },
        "outputId": "1e7ffcd2-45fb-460a-d43c-37e3c1d22bb1"
      },
      "outputs": [
        {
          "output_type": "execute_result",
          "data": {
            "text/plain": [
              "array([-4, -8])"
            ]
          },
          "metadata": {},
          "execution_count": 100
        }
      ],
      "source": [
        "# Write your code below and press Shift+Enter to execute\n",
        "\n",
        "z = np.array([2, 4])\n",
        "\n",
        "z = z * -2\n",
        "z"
      ]
    },
    {
      "cell_type": "markdown",
      "metadata": {
        "id": "8Yc0P6x73KM6"
      },
      "source": [
        "<details><summary>Click here for the solution</summary>\n",
        "\n",
        "```python\n",
        "-2 * z\n",
        "```\n",
        "\n",
        "</details>\n"
      ]
    },
    {
      "cell_type": "markdown",
      "metadata": {
        "id": "TSCMaenR3KM6"
      },
      "source": [
        "<hr>\n"
      ]
    },
    {
      "cell_type": "markdown",
      "metadata": {
        "id": "fPHr-3_u3KM7"
      },
      "source": [
        "Consider the list <code>\\[1, 2, 3, 4, 5]</code> and <code>\\[1, 0, 1, 0, 1]</code>. Cast both lists to a numpy array then multiply them together:\n"
      ]
    },
    {
      "cell_type": "code",
      "execution_count": 102,
      "metadata": {
        "id": "zy1mnwMe3KM7",
        "colab": {
          "base_uri": "https://localhost:8080/"
        },
        "outputId": "a84cf2e0-857c-4e93-a1c0-2790716071d4"
      },
      "outputs": [
        {
          "output_type": "execute_result",
          "data": {
            "text/plain": [
              "array([1, 0, 3, 0, 5])"
            ]
          },
          "metadata": {},
          "execution_count": 102
        }
      ],
      "source": [
        "# Write your code below and press Shift+Enter to execute\n",
        "m = np.array([1, 2, 3, 4, 5])\n",
        "n = np.array([1, 0, 1, 0, 1])\n",
        "\n",
        "mul = np.multiply(m, n)\n",
        "mul"
      ]
    },
    {
      "cell_type": "markdown",
      "metadata": {
        "id": "an6hkqRR3KM7"
      },
      "source": [
        "<details><summary>Click here for the solution</summary>\n",
        "\n",
        "```python\n",
        "a = np.array([1, 2, 3, 4, 5])\n",
        "b = np.array([1, 0, 1, 0, 1])\n",
        "a * b\n",
        "```\n",
        "\n",
        "</details>\n"
      ]
    },
    {
      "cell_type": "markdown",
      "metadata": {
        "id": "O1NYxqK23KM8"
      },
      "source": [
        "<hr>\n"
      ]
    },
    {
      "cell_type": "code",
      "execution_count": 103,
      "metadata": {
        "id": "Z2RYPByL3KM8"
      },
      "outputs": [],
      "source": [
        "# Import the libraries\n",
        "\n",
        "import time \n",
        "import sys\n",
        "import numpy as np \n",
        "\n",
        "import matplotlib.pyplot as plt\n",
        "%matplotlib inline  \n",
        "\n",
        "def Plotvec2(a,b):\n",
        "  ax = plt.axes()# to generate the full window axes\n",
        "  ax.arrow(0, 0, *a, head_width=0.05, color ='r', head_length=0.1)#Add an arrow to the  a Axes with arrow head width 0.05, color red and arrow head length 0.1\n",
        "  plt.text(*(a + 0.1), 'a')\n",
        "  ax.arrow(0, 0, *b, head_width=0.05, color ='b', head_length=0.1)#Add an arrow to the  b Axes with arrow head width 0.05, color blue and arrow head length 0.1\n",
        "  plt.text(*(b + 0.1), 'b')\n",
        "  plt.ylim(-2, 2)#set the ylim to bottom(-2), top(2)\n",
        "  plt.xlim(-2, 2)#set the xlim to left(-2), right(2)\n",
        "    \n",
        "    \n"
      ]
    },
    {
      "cell_type": "markdown",
      "metadata": {
        "id": "OugA0g3e3KM8"
      },
      "source": [
        "Convert the list <code>\\[-1, 1]</code> and <code>\\[1, 1]</code> to numpy arrays <code>a</code> and <code>b</code>. Then, plot the arrays as vectors using the fuction <code>Plotvec2</code> and find their dot product:\n"
      ]
    },
    {
      "cell_type": "code",
      "execution_count": 109,
      "metadata": {
        "id": "NeJhH4Xc3KM9",
        "colab": {
          "base_uri": "https://localhost:8080/",
          "height": 286
        },
        "outputId": "75450e7c-a07c-4877-b5ec-fdd2fb788d43"
      },
      "outputs": [
        {
          "output_type": "stream",
          "name": "stdout",
          "text": [
            "0\n"
          ]
        },
        {
          "output_type": "display_data",
          "data": {
            "text/plain": [
              "<Figure size 432x288 with 1 Axes>"
            ],
            "image/png": "[encoded data removed]"
          },
          "metadata": {
            "needs_background": "light"
          }
        }
      ],
      "source": [
        "# Write your code below and press Shift+Enter to execute\n",
        "m = np.array([-1, 1])\n",
        "n = np.array([1, 1])\n",
        "\n",
        "Plotvec2(m, n)\n",
        "print(np.dot(m,n))"
      ]
    },
    {
      "cell_type": "markdown",
      "metadata": {
        "id": "_c1BN5ms3KNE"
      },
      "source": [
        "<details><summary>Click here for the solution</summary>\n",
        "\n",
        "```python\n",
        "\n",
        "\n",
        "a = np.array([-1, 1])\n",
        "b = np.array([1, 1])\n",
        "Plotvec2(a, b)\n",
        "print(\"The dot product is\", np.dot(a,b))\n",
        "\n",
        "```\n",
        "\n",
        "</details>\n"
      ]
    },
    {
      "cell_type": "markdown",
      "metadata": {
        "id": "DVW2FuuR3KNF"
      },
      "source": [
        "<hr>\n"
      ]
    },
    {
      "cell_type": "markdown",
      "metadata": {
        "id": "OZl3HPj-3KNF"
      },
      "source": [
        "Convert the list <code>\\[1, 0]</code> and <code>\\[0, 1]</code> to numpy arrays <code>a</code> and <code>b</code>. Then, plot the arrays as vectors using the function <code>Plotvec2</code> and find their dot product:\n"
      ]
    },
    {
      "cell_type": "code",
      "execution_count": 111,
      "metadata": {
        "id": "PfNTfrYv3KNF",
        "colab": {
          "base_uri": "https://localhost:8080/",
          "height": 286
        },
        "outputId": "60587917-2043-4b4f-ff00-0167da4811ac"
      },
      "outputs": [
        {
          "output_type": "stream",
          "name": "stdout",
          "text": [
            "0\n"
          ]
        },
        {
          "output_type": "display_data",
          "data": {
            "text/plain": [
              "<Figure size 432x288 with 1 Axes>"
            ],
            "image/png": "[encoded data removed]"
          },
          "metadata": {
            "needs_background": "light"
          }
        }
      ],
      "source": [
        "# Write your code below and press Shift+Enter to execute\n",
        "m = np.array([1, 0])\n",
        "n = np.array([0, 1])\n",
        "\n",
        "Plotvec2(m, n)\n",
        "print(np.dot(m, n))"
      ]
    },
    {
      "cell_type": "markdown",
      "metadata": {
        "id": "fiqCnb4o3KNG"
      },
      "source": [
        "Why are the results of the dot product for <code>\\[-1, 1]</code> and <code>\\[1, 1]</code> and the dot product for <code>\\[1, 0]</code> and <code>\\[0, 1]</code> zero, but not zero for the dot product for <code>\\[1, 1]</code> and <code>\\[0, 1]</code>? <p><i>Hint: Study the corresponding figures, pay attention to the direction the arrows are pointing to.</i></p>\n"
      ]
    },
    {
      "cell_type": "code",
      "execution_count": null,
      "metadata": {
        "id": "vH1CVyhx3KNH"
      },
      "outputs": [],
      "source": [
        "# Write your code below and press Shift+Enter to execute\n"
      ]
    },
    {
      "cell_type": "markdown",
      "metadata": {
        "id": "QsyeL6WA3KNH"
      },
      "source": [
        "<details><summary>Click here for the solution</summary>\n",
        "\n",
        "```python\n",
        "The vectors used for question 4 and 5 are perpendicular. As a result, the dot product is zero. \n",
        "\n",
        "```\n",
        "\n",
        "</details>\n"
      ]
    },
    {
      "cell_type": "markdown",
      "metadata": {
        "id": "kwJ4pEuq3KNH"
      },
      "source": [
        "Convert the list <code>\\[1, 2, 3]</code> and <code>\\[8, 9, 10]</code> to numpy arrays <code>arr1</code> and <code>arr2</code>. Then perform <code>Addition</code> , <code>Subtraction</code> , <code>Multiplication</code> , <code>Division</code> and <code>Dot Operation</code> on the <code>arr1</code> and <code>arr2</code>.\n"
      ]
    },
    {
      "cell_type": "code",
      "execution_count": 112,
      "metadata": {
        "id": "euMijsyG3KNH",
        "colab": {
          "base_uri": "https://localhost:8080/"
        },
        "outputId": "b06ad833-0c67-4fab-9421-3c6f05e31d36"
      },
      "outputs": [
        {
          "output_type": "stream",
          "name": "stdout",
          "text": [
            "[ 9 11 13]\n",
            "[-7 -7 -7]\n",
            "[ 8 18 30]\n",
            "[0.125      0.22222222 0.3       ]\n",
            "56\n"
          ]
        }
      ],
      "source": [
        "# Write your code below and press Shift+Enter to execute\n",
        "arr1 = np.array([1, 2, 3])\n",
        "arr2 = np.array([8, 9, 10])\n",
        "\n",
        "print(np.add(arr1, arr2))\n",
        "\n",
        "print(np.subtract(arr1, arr2))\n",
        "\n",
        "print(np.multiply(arr1, arr2))\n",
        "\n",
        "print(np.divide(arr1, arr2))\n",
        "\n",
        "print(np.dot(arr1, arr2))"
      ]
    },
    {
      "cell_type": "markdown",
      "metadata": {
        "id": "0WBsgd763KNI"
      },
      "source": [
        "<details><summary>Click here for the solution</summary>\n",
        "\n",
        "```python\n",
        "arr1 = np.array([1, 2, 3])\n",
        "arr2 = np.array([8, 9, 10])\n",
        "\n",
        "arr3 = np.add(arr1, arr2)\n",
        "arr3\n",
        "\n",
        "arr4 = np.subtract(arr1, arr2)\n",
        "arr4\n",
        "\n",
        "arr5 = np.multiply(arr1, arr2)\n",
        "arr5\n",
        "\n",
        "\n",
        "arr6 = np.divide(arr1, arr2)\n",
        "arr6\n",
        "\n",
        "arr7 = np.dot(arr1, arr2)\n",
        "arr7\n",
        "```\n",
        "\n",
        "</details>\n"
      ]
    },
    {
      "cell_type": "markdown",
      "metadata": {
        "id": "8e-DLeeQ3KNI"
      },
      "source": [
        "Convert the list <code>\\[1, 2, 3, 4, 5]</code> and <code>\\[6, 7, 8, 9, 10]</code> to numpy arrays <code>arr1</code> and <code>arr2</code>. Then find the even and odd numbers from <code>arr1</code> and <code>arr2</code>.\n"
      ]
    },
    {
      "cell_type": "code",
      "execution_count": 117,
      "metadata": {
        "id": "kFsJ9dKF3KNI",
        "colab": {
          "base_uri": "https://localhost:8080/"
        },
        "outputId": "a5990517-5a00-4852-812c-b15060977348"
      },
      "outputs": [
        {
          "output_type": "stream",
          "name": "stdout",
          "text": [
            "[2 4]\n",
            "[1 3 5]\n",
            "[ 6  8 10]\n",
            "[7 9]\n"
          ]
        }
      ],
      "source": [
        "# Write your code below and press Shift+Enter to execute\n",
        "arr1 = np.array([1, 2, 3, 4, 5])\n",
        "arr2 = np.array([6, 7, 8, 9, 10])\n",
        "\n",
        "even_arr1 = arr1[1::2]\n",
        "print(even_arr1)\n",
        "\n",
        "odd_arr1 = arr1[0::2]\n",
        "print(odd_arr1)\n",
        "\n",
        "even_arr2 = arr2[0::2]\n",
        "print(even_arr2)\n",
        "\n",
        "odd_arr2 = arr2[1::2]\n",
        "print(odd_arr2)"
      ]
    },
    {
      "cell_type": "markdown",
      "metadata": {
        "id": "uR6u3OOM3KNI"
      },
      "source": [
        "<details><summary>Click here for the solution</summary>\n",
        "\n",
        "```python\n",
        "\n",
        "\n",
        "arr1 = np.array([1, 2, 3, 4, 5])\n",
        "arr2 = np.array([6, 7, 8, 9, 10])\n",
        "\n",
        "#Starting index in slice is 1 as first even element(2) in array1 is at index 1\n",
        "even_arr1 = arr1[1:5:2]\n",
        "print(\"even for array1\",even_arr1)\n",
        "    \n",
        "#Starting index in slice is 0 as first odd element(1) in array1 is at index 0\n",
        "odd_arr1=arr1[0:5:2]\n",
        "print(\"odd for array1\",odd_arr1)\n",
        "\n",
        "#Starting index in slice is 0 as first even element(6) in array2 is at index 0\n",
        "even_arr2 = arr2[0:5:2]\n",
        "print(\"even for array2\",even_arr2)\n",
        "    \n",
        "    \n",
        "#Starting index in slice is 1 as first odd element(7) in array2 is at index 1\n",
        "odd_arr2=arr2[1:5:2]\n",
        "print(\"odd for array2\",odd_arr2)\n",
        "\n",
        "```\n",
        "\n",
        "</details>\n"
      ]
    },
    {
      "cell_type": "markdown",
      "metadata": {
        "id": "sZXIDiQK3KNI"
      },
      "source": [
        "<hr>\n",
        "<h2>The last exercise!</h2>\n",
        "<p>Congratulations, you have completed your first lesson and hands-on lab in Python. \n",
        "<hr>\n"
      ]
    },
    {
      "cell_type": "markdown",
      "metadata": {
        "id": "te9TKgdz3KNJ"
      },
      "source": [
        "## Author\n",
        "\n",
        "<a href=\"https://www.linkedin.com/in/joseph-s-50398b136/?utm_medium=Exinfluencer&utm_source=Exinfluencer&utm_content=000026UJ&utm_term=10006555&utm_id=NA-SkillsNetwork-Channel-SkillsNetworkCoursesIBMDeveloperSkillsNetworkPY0101ENSkillsNetwork19487395-2021-01-01\" target=\"_blank\">Joseph Santarcangelo</a>\n",
        "\n",
        "## Other contributors\n",
        "\n",
        "<a href=\"https://www.linkedin.com/in/jiahui-mavis-zhou-a4537814a?utm_medium=Exinfluencer&utm_source=Exinfluencer&utm_content=000026UJ&utm_term=10006555&utm_id=NA-SkillsNetwork-Channel-SkillsNetworkCoursesIBMDeveloperSkillsNetworkPY0101ENSkillsNetwork19487395-2021-01-01\">Mavis Zhou</a>\n",
        "\n",
        "## Change Log\n",
        "\n",
        "| Date (YYYY-MM-DD) | Version | Changed By | Change Description                  |\n",
        "| ----------------- | ------- | ---------- | ----------------------------------- |\n",
        "| 2022-03-08        | 2.2     | Niveditha  | Modified and added practice problem |\n",
        "| 2022-01-10        | 2.1     | Malika     | Removed the readme for GitShare     |\n",
        "| 2020-08-26        | 2.0     | Lavanya    | Moved lab to course repo in GitLab  |\n",
        "|                   |         |            |                                     |\n",
        "|                   |         |            |                                     |\n",
        "\n",
        "<hr/>\n",
        "\n",
        "## <h3 align=\"center\"> © IBM Corporation 2020. All rights reserved. <h3/>\n"
      ]
    }
  ],
  "metadata": {
    "kernelspec": {
      "display_name": "Python 3",
      "language": "python",
      "name": "python3"
    },
    "language_info": {
      "codemirror_mode": {
        "name": "ipython",
        "version": 3
      },
      "file_extension": ".py",
      "mimetype": "text/x-python",
      "name": "python",
      "nbconvert_exporter": "python",
      "pygments_lexer": "ipython3",
      "version": "3.8.8"
    },
    "colab": {
      "provenance": []
    }
  },
  "nbformat": 4,
  "nbformat_minor": 0
}